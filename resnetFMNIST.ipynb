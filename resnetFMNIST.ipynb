{
 "metadata": {
  "kernelspec": {
   "display_name": "Python 3",
   "language": "python",
   "name": "python3"
  },
  "language_info": {
   "name": "python",
   "version": "3.10.12",
   "mimetype": "text/x-python",
   "codemirror_mode": {
    "name": "ipython",
    "version": 3
   },
   "pygments_lexer": "ipython3",
   "nbconvert_exporter": "python",
   "file_extension": ".py"
  }
 },
 "nbformat_minor": 4,
 "nbformat": 4,
 "cells": [
  {
   "cell_type": "code",
   "source": [
    "import torch\n",
    "import torch.nn as nn\n",
    "from typing import Type"
   ],
   "metadata": {
    "ExecuteTime": {
     "end_time": "2023-11-10T17:49:38.266626500Z",
     "start_time": "2023-11-10T17:49:38.238549400Z"
    },
    "execution": {
     "iopub.status.busy": "2023-11-10T18:11:58.034429Z",
     "iopub.execute_input": "2023-11-10T18:11:58.034801Z",
     "iopub.status.idle": "2023-11-10T18:11:58.039498Z",
     "shell.execute_reply.started": "2023-11-10T18:11:58.034770Z",
     "shell.execute_reply": "2023-11-10T18:11:58.038576Z"
    },
    "trusted": true
   },
   "execution_count": 44,
   "outputs": []
  },
  {
   "cell_type": "code",
   "source": [
    "class BasicBlock(nn.Module):\n",
    "\n",
    "    def __init__(self, in_channels, out_channels, stride):\n",
    "        super(BasicBlock, self).__init__()\n",
    "\n",
    "        self.downsample = None\n",
    "        self.conv1 = nn.Conv2d(in_channels, out_channels, kernel_size=3, stride=stride, padding=1, bias=False)\n",
    "        self.bn1 = nn.BatchNorm2d(out_channels)\n",
    "        self.relu = nn.ReLU(inplace=True)\n",
    "        self.conv2 = nn.Conv2d(out_channels, out_channels, kernel_size=3, padding=1, bias=False)\n",
    "        self.bn2 = nn.BatchNorm2d(out_channels)\n",
    "\n",
    "        if stride!=1:\n",
    "            self.downsample = nn.Sequential(\n",
    "                nn.Conv2d(in_channels, out_channels, kernel_size=1, stride = stride, bias = False),\n",
    "                nn.BatchNorm2d(out_channels)\n",
    "            )\n",
    "    def forward(self, x : torch.Tensor) -> torch.Tensor :\n",
    "        identity = x\n",
    "        out = self.conv1(x)\n",
    "        out = self.bn1(out)\n",
    "        out = self.relu(out)\n",
    "        out = self.conv2(out)\n",
    "        out = self.bn2(out)\n",
    "        if self.downsample is not None:\n",
    "            identity = self.downsample(x)\n",
    "\n",
    "        out += identity\n",
    "        out = self.relu(out)\n",
    "\n",
    "        return out\n"
   ],
   "metadata": {
    "collapsed": false,
    "ExecuteTime": {
     "end_time": "2023-11-10T17:49:38.333535700Z",
     "start_time": "2023-11-10T17:49:38.265646800Z"
    },
    "jupyter": {
     "outputs_hidden": false
    },
    "execution": {
     "iopub.status.busy": "2023-11-10T18:11:58.041162Z",
     "iopub.execute_input": "2023-11-10T18:11:58.041489Z",
     "iopub.status.idle": "2023-11-10T18:11:58.053004Z",
     "shell.execute_reply.started": "2023-11-10T18:11:58.041464Z",
     "shell.execute_reply": "2023-11-10T18:11:58.052133Z"
    },
    "trusted": true
   },
   "execution_count": 45,
   "outputs": []
  },
  {
   "cell_type": "code",
   "source": [
    "class ResNet(nn.Module):\n",
    "    def __init__(self, in_channels : int, out_classes : int, block = BasicBlock):\n",
    "        super(ResNet, self).__init__()\n",
    "\n",
    "        self.conv1 = nn.Conv2d(in_channels = in_channels, out_channels = 64, kernel_size = 7, stride = 2, padding = 3, bias = False)\n",
    "        self.bn1 = nn.BatchNorm2d(64)\n",
    "        self.relu = nn.ReLU(inplace = True)\n",
    "        self.maxpool = nn.MaxPool2d(kernel_size = 3, stride = 1, padding = 1)\n",
    "        self.layer1 = nn.Sequential(\n",
    "            block(64, 64, stride = 1),\n",
    "            block(64, 64, stride = 1)\n",
    "        )\n",
    "        self.layer2 = nn.Sequential(\n",
    "            block(64, 128, stride = 2),\n",
    "            block(128, 128, stride = 1)\n",
    "        )\n",
    "        self.layer3 = nn.Sequential(\n",
    "            block(128, 256, stride = 2),\n",
    "            block(256, 256, stride = 1)\n",
    "        )\n",
    "        self.layer4 = nn.Sequential(\n",
    "            block(256, 512, stride = 2),\n",
    "            block(512, 512, stride = 1)\n",
    "        )\n",
    "        self.avgpool = nn.AdaptiveAvgPool2d(output_size = (1,1))\n",
    "        self.fc = nn.Linear(in_features = 512, out_features = out_classes, bias = True)\n",
    "\n",
    "\n",
    "    def forward(self, x : torch.Tensor) -> torch.Tensor :\n",
    "        out = self.conv1(x)\n",
    "        out = self.bn1(out)\n",
    "        out = self.relu(out)\n",
    "        out = self.maxpool(out)\n",
    "        out = self.layer1(out)\n",
    "        out = self.layer2(out)\n",
    "        out = self.layer3(out)\n",
    "        out = self.layer4(out)\n",
    "        out = self.avgpool(out)\n",
    "        out = out.view(out.shape[0], 512)\n",
    "        out = self.fc(out)\n",
    "\n",
    "        return out"
   ],
   "metadata": {
    "collapsed": false,
    "ExecuteTime": {
     "end_time": "2023-11-10T17:49:38.335568Z",
     "start_time": "2023-11-10T17:49:38.273959100Z"
    },
    "jupyter": {
     "outputs_hidden": false
    },
    "execution": {
     "iopub.status.busy": "2023-11-10T18:11:58.054458Z",
     "iopub.execute_input": "2023-11-10T18:11:58.054721Z",
     "iopub.status.idle": "2023-11-10T18:11:58.069102Z",
     "shell.execute_reply.started": "2023-11-10T18:11:58.054698Z",
     "shell.execute_reply": "2023-11-10T18:11:58.068329Z"
    },
    "trusted": true
   },
   "execution_count": 46,
   "outputs": []
  },
  {
   "cell_type": "code",
   "source": [
    "from torchvision import datasets\n",
    "from torchvision.transforms import ToTensor\n",
    "\n",
    "train_data = datasets.FashionMNIST(root='data', train=True, download=True, transform=ToTensor(), target_transform=None)\n",
    "test_data = datasets.FashionMNIST(root='data', train=False, download=True, transform=ToTensor(), target_transform=None)"
   ],
   "metadata": {
    "collapsed": false,
    "ExecuteTime": {
     "end_time": "2023-11-10T17:49:38.367183200Z",
     "start_time": "2023-11-10T17:49:38.286229500Z"
    },
    "jupyter": {
     "outputs_hidden": false
    },
    "execution": {
     "iopub.status.busy": "2023-11-10T18:11:58.070155Z",
     "iopub.execute_input": "2023-11-10T18:11:58.070393Z",
     "iopub.status.idle": "2023-11-10T18:11:58.152673Z",
     "shell.execute_reply.started": "2023-11-10T18:11:58.070373Z",
     "shell.execute_reply": "2023-11-10T18:11:58.151706Z"
    },
    "trusted": true
   },
   "execution_count": 47,
   "outputs": []
  },
  {
   "cell_type": "code",
   "source": [
    "from torch.utils.data import DataLoader\n",
    "\n",
    "BATCH_SIZE = 32\n",
    "\n",
    "train_dataloader = DataLoader(dataset = train_data, batch_size = BATCH_SIZE, shuffle = True)\n",
    "test_dataloader = DataLoader(dataset = test_data, batch_size = BATCH_SIZE, shuffle = False)"
   ],
   "metadata": {
    "collapsed": false,
    "ExecuteTime": {
     "end_time": "2023-11-10T17:49:38.381023700Z",
     "start_time": "2023-11-10T17:49:38.366981Z"
    },
    "jupyter": {
     "outputs_hidden": false
    },
    "execution": {
     "iopub.status.busy": "2023-11-10T18:11:58.155197Z",
     "iopub.execute_input": "2023-11-10T18:11:58.155721Z",
     "iopub.status.idle": "2023-11-10T18:11:58.162156Z",
     "shell.execute_reply.started": "2023-11-10T18:11:58.155681Z",
     "shell.execute_reply": "2023-11-10T18:11:58.161219Z"
    },
    "trusted": true
   },
   "execution_count": 48,
   "outputs": []
  },
  {
   "cell_type": "code",
   "source": [
    "img, label = next(iter(train_dataloader))\n",
    "img.shape"
   ],
   "metadata": {
    "collapsed": false,
    "ExecuteTime": {
     "end_time": "2023-11-10T17:49:38.416720Z",
     "start_time": "2023-11-10T17:49:38.384189500Z"
    },
    "jupyter": {
     "outputs_hidden": false
    },
    "execution": {
     "iopub.status.busy": "2023-11-10T18:11:58.163208Z",
     "iopub.execute_input": "2023-11-10T18:11:58.163497Z",
     "iopub.status.idle": "2023-11-10T18:11:58.188234Z",
     "shell.execute_reply.started": "2023-11-10T18:11:58.163472Z",
     "shell.execute_reply": "2023-11-10T18:11:58.187424Z"
    },
    "trusted": true
   },
   "execution_count": 49,
   "outputs": [
    {
     "execution_count": 49,
     "output_type": "execute_result",
     "data": {
      "text/plain": "torch.Size([32, 1, 28, 28])"
     },
     "metadata": {}
    }
   ]
  },
  {
   "cell_type": "code",
   "source": [
    "def train_step(model : torch.nn.Module, data_loader : torch.utils.data.DataLoader, loss_fn : torch.nn.Module, optimizer : torch.optim.Optimizer, accuracy_fn, device : torch.device):\n",
    "    model.to(device)\n",
    "    train_loss = 0\n",
    "    acc = 0\n",
    "    model.train()\n",
    "    for batch, (img,label) in enumerate(data_loader):\n",
    "\n",
    "        img, label = img.to(device), label.to(device)\n",
    "        train_preds = model(img)\n",
    "        loss = loss_fn(train_preds, label)\n",
    "        train_loss+=loss\n",
    "        acc+= accuracy_fn(y_true=label, y_pred=train_preds.argmax(dim=1))\n",
    "        optimizer.zero_grad()\n",
    "        loss.backward()\n",
    "        optimizer.step()\n",
    "\n",
    "        if batch % 400 == 0:\n",
    "            print(f\"Looked at {batch * len(img)}/{len(train_dataloader.dataset)} samples.\")\n",
    "\n",
    "    train_loss /= len(data_loader)\n",
    "    acc /= len(data_loader)\n",
    "\n",
    "    print(f\"Train loss : {train_loss:.4f}, train acc : {acc:2f}%\")"
   ],
   "metadata": {
    "collapsed": false,
    "ExecuteTime": {
     "end_time": "2023-11-10T17:49:38.426653100Z",
     "start_time": "2023-11-10T17:49:38.417727300Z"
    },
    "jupyter": {
     "outputs_hidden": false
    },
    "execution": {
     "iopub.status.busy": "2023-11-10T18:11:58.189296Z",
     "iopub.execute_input": "2023-11-10T18:11:58.190077Z",
     "iopub.status.idle": "2023-11-10T18:11:58.198320Z",
     "shell.execute_reply.started": "2023-11-10T18:11:58.190052Z",
     "shell.execute_reply": "2023-11-10T18:11:58.197246Z"
    },
    "trusted": true
   },
   "execution_count": 50,
   "outputs": []
  },
  {
   "cell_type": "code",
   "source": [
    "# Setting up a function for testing loop\n",
    "def test_step(model : torch.nn.Module, data_loader : torch.utils.data.DataLoader, loss_fn : torch.nn.Module, accuracy_fn, device : torch.device):\n",
    "    model.to(device)\n",
    "    test_loss, test_acc = 0, 0\n",
    "    model.eval()\n",
    "    with torch.inference_mode():\n",
    "        for x,y in data_loader:\n",
    "            x, y = x.to(device), y.to(device)\n",
    "            test_preds = model(x)\n",
    "            test_loss += loss_fn(test_preds, y)\n",
    "            test_acc += accuracy_fn(y_true=y, y_pred=test_preds.argmax(dim=1))\n",
    "\n",
    "        test_loss /= len(data_loader)\n",
    "        test_acc /= len(data_loader)\n",
    "\n",
    "        print(f\"Test loss : {test_loss:.3f}, test acc : {test_acc:.2f}%\")\n"
   ],
   "metadata": {
    "collapsed": false,
    "ExecuteTime": {
     "end_time": "2023-11-10T17:49:38.484936100Z",
     "start_time": "2023-11-10T17:49:38.429674800Z"
    },
    "jupyter": {
     "outputs_hidden": false
    },
    "execution": {
     "iopub.status.busy": "2023-11-10T18:11:58.199439Z",
     "iopub.execute_input": "2023-11-10T18:11:58.199773Z",
     "iopub.status.idle": "2023-11-10T18:11:58.209619Z",
     "shell.execute_reply.started": "2023-11-10T18:11:58.199748Z",
     "shell.execute_reply": "2023-11-10T18:11:58.208871Z"
    },
    "trusted": true
   },
   "execution_count": 51,
   "outputs": []
  },
  {
   "cell_type": "code",
   "source": [
    "def accuracy_fn(y_true, y_pred):\n",
    "    correct = torch.eq(y_true, y_pred).sum().item()\n",
    "    acc = (correct / len(y_pred)) * 100\n",
    "\n",
    "    return acc\n",
    "\n",
    "def print_train_time(start : float, end : float):\n",
    "    total_time = end - start\n",
    "    print(f\"Train time  : { total_time:.3f} seconds\")\n",
    "    return total_time"
   ],
   "metadata": {
    "collapsed": false,
    "ExecuteTime": {
     "end_time": "2023-11-10T17:49:38.496650900Z",
     "start_time": "2023-11-10T17:49:38.447576700Z"
    },
    "jupyter": {
     "outputs_hidden": false
    },
    "execution": {
     "iopub.status.busy": "2023-11-10T18:11:58.212481Z",
     "iopub.execute_input": "2023-11-10T18:11:58.212897Z",
     "iopub.status.idle": "2023-11-10T18:11:58.220321Z",
     "shell.execute_reply.started": "2023-11-10T18:11:58.212855Z",
     "shell.execute_reply": "2023-11-10T18:11:58.219498Z"
    },
    "trusted": true
   },
   "execution_count": 52,
   "outputs": []
  },
  {
   "cell_type": "code",
   "source": [
    "model = ResNet(in_channels = 1, out_classes = 10)\n",
    "loss_fn = nn.CrossEntropyLoss()\n",
    "optimizer = torch.optim.Adam(params = model.parameters(), lr = 0.01)\n",
    "device = 'cuda' if torch.cuda.is_available() else 'cpu'"
   ],
   "metadata": {
    "collapsed": false,
    "ExecuteTime": {
     "end_time": "2023-11-10T17:49:38.553749400Z",
     "start_time": "2023-11-10T17:49:38.462059100Z"
    },
    "jupyter": {
     "outputs_hidden": false
    },
    "execution": {
     "iopub.status.busy": "2023-11-10T18:11:58.221411Z",
     "iopub.execute_input": "2023-11-10T18:11:58.221684Z",
     "iopub.status.idle": "2023-11-10T18:11:58.312574Z",
     "shell.execute_reply.started": "2023-11-10T18:11:58.221661Z",
     "shell.execute_reply": "2023-11-10T18:11:58.311825Z"
    },
    "trusted": true
   },
   "execution_count": 53,
   "outputs": []
  },
  {
   "cell_type": "code",
   "source": [
    "from timeit import default_timer as timer\n",
    "from tqdm.auto import  tqdm\n",
    "\n",
    "epochs = 5\n",
    "\n",
    "train_time_start = timer()\n",
    "\n",
    "for epoch in tqdm(range(epochs)):\n",
    "    print(f\"\\nEpoch : {epoch}\\n\")\n",
    "    train_step(model = model, data_loader = train_dataloader, loss_fn = loss_fn, accuracy_fn = accuracy_fn, device = device, optimizer = optimizer)\n",
    "    test_step(model = model, data_loader = test_dataloader, loss_fn = loss_fn, accuracy_fn = accuracy_fn, device = device)\n",
    "\n",
    "train_time_end = timer()\n",
    "\n",
    "total_train_time = print_train_time(start = train_time_start, end = train_time_end)"
   ],
   "metadata": {
    "collapsed": false,
    "is_executing": true,
    "ExecuteTime": {
     "start_time": "2023-11-10T17:49:38.555833Z"
    },
    "jupyter": {
     "outputs_hidden": false
    },
    "execution": {
     "iopub.status.busy": "2023-11-10T18:11:58.313704Z",
     "iopub.execute_input": "2023-11-10T18:11:58.314014Z",
     "iopub.status.idle": "2023-11-10T18:15:47.623982Z",
     "shell.execute_reply.started": "2023-11-10T18:11:58.313987Z",
     "shell.execute_reply": "2023-11-10T18:15:47.623047Z"
    },
    "trusted": true
   },
   "execution_count": 54,
   "outputs": [
    {
     "output_type": "display_data",
     "data": {
      "text/plain": "  0%|          | 0/5 [00:00<?, ?it/s]",
      "application/vnd.jupyter.widget-view+json": {
       "version_major": 2,
       "version_minor": 0,
       "model_id": "93631d97bd1143e6b1ab011e35bd7844"
      }
     },
     "metadata": {}
    },
    {
     "name": "stdout",
     "text": "\nEpoch : 0\n\nLooked at 0/60000 samples.\nLooked at 12800/60000 samples.\nLooked at 25600/60000 samples.\nLooked at 38400/60000 samples.\nLooked at 51200/60000 samples.\nTrain loss : 0.5493, train acc : 80.108333%\nTest loss : 0.471, test acc : 82.27%\n\nEpoch : 1\n\nLooked at 0/60000 samples.\nLooked at 12800/60000 samples.\nLooked at 25600/60000 samples.\nLooked at 38400/60000 samples.\nLooked at 51200/60000 samples.\nTrain loss : 0.3298, train acc : 87.961667%\nTest loss : 0.312, test acc : 88.74%\n\nEpoch : 2\n\nLooked at 0/60000 samples.\nLooked at 12800/60000 samples.\nLooked at 25600/60000 samples.\nLooked at 38400/60000 samples.\nLooked at 51200/60000 samples.\nTrain loss : 0.2869, train acc : 89.493333%\nTest loss : 0.302, test acc : 89.18%\n\nEpoch : 3\n\nLooked at 0/60000 samples.\nLooked at 12800/60000 samples.\nLooked at 25600/60000 samples.\nLooked at 38400/60000 samples.\nLooked at 51200/60000 samples.\nTrain loss : 0.2598, train acc : 90.428333%\nTest loss : 0.283, test acc : 89.38%\n\nEpoch : 4\n\nLooked at 0/60000 samples.\nLooked at 12800/60000 samples.\nLooked at 25600/60000 samples.\nLooked at 38400/60000 samples.\nLooked at 51200/60000 samples.\nTrain loss : 0.2349, train acc : 91.316667%\nTest loss : 0.276, test acc : 89.92%\nTrain time  : 229.303 seconds\n",
     "output_type": "stream"
    }
   ]
  },
  {
   "cell_type": "code",
   "source": [
    "import torch\n",
    "\n",
    "model = ResNet(in_channels=1, out_classes=10)\n",
    "\n",
    "batch_size = 32\n",
    "\n",
    "for epoch in range(5):\n",
    "\n",
    "    input_images = torch.randn((batch_size, 1, 28, 28))\n",
    "\n",
    "    output = model(input_images)\n",
    "\n",
    "    print(\"Output shape:\", output.shape)"
   ],
   "metadata": {
    "collapsed": false,
    "is_executing": true,
    "jupyter": {
     "outputs_hidden": false
    },
    "execution": {
     "iopub.status.busy": "2023-11-10T18:15:47.625172Z",
     "iopub.execute_input": "2023-11-10T18:15:47.625449Z",
     "iopub.status.idle": "2023-11-10T18:15:48.086171Z",
     "shell.execute_reply.started": "2023-11-10T18:15:47.625424Z",
     "shell.execute_reply": "2023-11-10T18:15:48.085202Z"
    },
    "trusted": true
   },
   "execution_count": 55,
   "outputs": [
    {
     "name": "stdout",
     "text": "Output shape: torch.Size([32, 10])\nOutput shape: torch.Size([32, 10])\nOutput shape: torch.Size([32, 10])\nOutput shape: torch.Size([32, 10])\nOutput shape: torch.Size([32, 10])\n",
     "output_type": "stream"
    }
   ]
  }
 ]
}
